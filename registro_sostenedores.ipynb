{
  "nbformat": 4,
  "nbformat_minor": 0,
  "metadata": {
    "colab": {
      "provenance": []
    },
    "kernelspec": {
      "name": "python3",
      "display_name": "Python 3"
    },
    "language_info": {
      "name": "python"
    }
  },
  "cells": [
    {
      "cell_type": "markdown",
      "source": [
        "# Registro de sostenedores"
      ],
      "metadata": {
        "id": "IQV159trtYZL"
      }
    },
    {
      "cell_type": "markdown",
      "source": [
        "Descargar registro de sostenedores [aquí](https://www.supereduc.cl/wp-content/uploads/2024/07/20240711-Correos-de-Sostenedores-Actualizados-hasta-JULIO-2024.pdf)"
      ],
      "metadata": {
        "id": "8JdZUHdmtdVk"
      }
    },
    {
      "cell_type": "markdown",
      "source": [
        "1. Instalar librerías de Python"
      ],
      "metadata": {
        "id": "9M7tXvHauVRD"
      }
    },
    {
      "cell_type": "code",
      "source": [
        "!pip install requests\n",
        "!pip install PyPDF2"
      ],
      "metadata": {
        "id": "pZpm9ng9xckP"
      },
      "execution_count": null,
      "outputs": []
    },
    {
      "cell_type": "markdown",
      "source": [
        "2. Importar librerías"
      ],
      "metadata": {
        "id": "Ga6JUz0MualI"
      }
    },
    {
      "cell_type": "code",
      "execution_count": null,
      "metadata": {
        "id": "DsufFv8rvT5t"
      },
      "outputs": [],
      "source": [
        "import pandas as pd\n",
        "import PyPDF2\n",
        "from google.colab import drive\n",
        "import re"
      ]
    },
    {
      "cell_type": "markdown",
      "source": [
        "3. Agregar la ruta del archivo\n",
        "\n",
        "`NOTA`: Para agregar la ruta del archivo, primero deberá subir el archivo descargado a Google Colab. Una vez realizado el paso anterior, podrá copiar la ruta directamente en el archivo, pegando la dirección en las comillas.\n",
        "\n",
        "\n",
        "<img src = \"https://miro.medium.com/v2/resize:fit:1400/1*eLs1D3BI4_HLAabN5WUTPg.png\" width=\"500\" height=\"300\">\n",
        "\n"
      ],
      "metadata": {
        "id": "c3TAU7yhuduL"
      }
    },
    {
      "cell_type": "code",
      "source": [
        "pdf_path = '/20240711-Correos-de-Sostenedores-Actualizados-hasta-JULIO-2024.pdf'"
      ],
      "metadata": {
        "id": "ngI9FsCNvc02"
      },
      "execution_count": null,
      "outputs": []
    },
    {
      "cell_type": "markdown",
      "source": [
        "4. Correr función para extraer texto de PDF"
      ],
      "metadata": {
        "id": "O5eXFgs0vx1r"
      }
    },
    {
      "cell_type": "code",
      "source": [
        "def extraer_texto_pdf(pdf_path):\n",
        "    texto = ''\n",
        "    with open(pdf_path, 'rb') as file:\n",
        "        reader = PyPDF2.PdfReader(file)\n",
        "        num_pags = len(reader.pages)\n",
        "        for pag_num in range(num_pags):\n",
        "            pag = reader.pages[pag_num]\n",
        "            texto += pag.extract_text()\n",
        "    return texto"
      ],
      "metadata": {
        "id": "tJ8X-Pl23QD-"
      },
      "execution_count": null,
      "outputs": []
    },
    {
      "cell_type": "code",
      "source": [
        "pdf_text = extraer_texto_pdf(pdf_path)"
      ],
      "metadata": {
        "id": "l-vB8AwT3V78"
      },
      "execution_count": null,
      "outputs": []
    },
    {
      "cell_type": "markdown",
      "source": [
        "5. Inspeccionar el set de datos"
      ],
      "metadata": {
        "id": "zU-P0VU1v5Sp"
      }
    },
    {
      "cell_type": "code",
      "source": [
        "lines = pdf_text.split('\\n')\n",
        "df = pd.DataFrame(lines, columns=['columna'])\n",
        "df.head(5)"
      ],
      "metadata": {
        "id": "BCFMr3ZT3lYh",
        "colab": {
          "base_uri": "https://localhost:8080/",
          "height": 206
        },
        "outputId": "5e4708f8-c156-41d0-84d5-6c80bdfa73de"
      },
      "execution_count": null,
      "outputs": [
        {
          "output_type": "execute_result",
          "data": {
            "text/plain": [
              "                                             columna\n",
              "0  CORREOS DE SOSTENEDORES DE ESTABLECIMIENTOS ED...\n",
              "1  RUT Sostenedor dv Nombre Sostenedor Región Cor...\n",
              "2  9305019 3 CRISTINA ELENA VARELA CORTÉS 2 Kathe...\n",
              "3  76095517 5 SERVICIOS EDUCACIONALES PAMELA ANDR...\n",
              "4  1465275 2 INES ELOISA MANTILARO URBISTONDO 13 ..."
            ],
            "text/html": [
              "\n",
              "  <div id=\"df-ac8d1b31-686b-40d7-b064-98ac17e5bc2d\" class=\"colab-df-container\">\n",
              "    <div>\n",
              "<style scoped>\n",
              "    .dataframe tbody tr th:only-of-type {\n",
              "        vertical-align: middle;\n",
              "    }\n",
              "\n",
              "    .dataframe tbody tr th {\n",
              "        vertical-align: top;\n",
              "    }\n",
              "\n",
              "    .dataframe thead th {\n",
              "        text-align: right;\n",
              "    }\n",
              "</style>\n",
              "<table border=\"1\" class=\"dataframe\">\n",
              "  <thead>\n",
              "    <tr style=\"text-align: right;\">\n",
              "      <th></th>\n",
              "      <th>columna</th>\n",
              "    </tr>\n",
              "  </thead>\n",
              "  <tbody>\n",
              "    <tr>\n",
              "      <th>0</th>\n",
              "      <td>CORREOS DE SOSTENEDORES DE ESTABLECIMIENTOS ED...</td>\n",
              "    </tr>\n",
              "    <tr>\n",
              "      <th>1</th>\n",
              "      <td>RUT Sostenedor dv Nombre Sostenedor Región Cor...</td>\n",
              "    </tr>\n",
              "    <tr>\n",
              "      <th>2</th>\n",
              "      <td>9305019 3 CRISTINA ELENA VARELA CORTÉS 2 Kathe...</td>\n",
              "    </tr>\n",
              "    <tr>\n",
              "      <th>3</th>\n",
              "      <td>76095517 5 SERVICIOS EDUCACIONALES PAMELA ANDR...</td>\n",
              "    </tr>\n",
              "    <tr>\n",
              "      <th>4</th>\n",
              "      <td>1465275 2 INES ELOISA MANTILARO URBISTONDO 13 ...</td>\n",
              "    </tr>\n",
              "  </tbody>\n",
              "</table>\n",
              "</div>\n",
              "    <div class=\"colab-df-buttons\">\n",
              "\n",
              "  <div class=\"colab-df-container\">\n",
              "    <button class=\"colab-df-convert\" onclick=\"convertToInteractive('df-ac8d1b31-686b-40d7-b064-98ac17e5bc2d')\"\n",
              "            title=\"Convert this dataframe to an interactive table.\"\n",
              "            style=\"display:none;\">\n",
              "\n",
              "  <svg xmlns=\"http://www.w3.org/2000/svg\" height=\"24px\" viewBox=\"0 -960 960 960\">\n",
              "    <path d=\"M120-120v-720h720v720H120Zm60-500h600v-160H180v160Zm220 220h160v-160H400v160Zm0 220h160v-160H400v160ZM180-400h160v-160H180v160Zm440 0h160v-160H620v160ZM180-180h160v-160H180v160Zm440 0h160v-160H620v160Z\"/>\n",
              "  </svg>\n",
              "    </button>\n",
              "\n",
              "  <style>\n",
              "    .colab-df-container {\n",
              "      display:flex;\n",
              "      gap: 12px;\n",
              "    }\n",
              "\n",
              "    .colab-df-convert {\n",
              "      background-color: #E8F0FE;\n",
              "      border: none;\n",
              "      border-radius: 50%;\n",
              "      cursor: pointer;\n",
              "      display: none;\n",
              "      fill: #1967D2;\n",
              "      height: 32px;\n",
              "      padding: 0 0 0 0;\n",
              "      width: 32px;\n",
              "    }\n",
              "\n",
              "    .colab-df-convert:hover {\n",
              "      background-color: #E2EBFA;\n",
              "      box-shadow: 0px 1px 2px rgba(60, 64, 67, 0.3), 0px 1px 3px 1px rgba(60, 64, 67, 0.15);\n",
              "      fill: #174EA6;\n",
              "    }\n",
              "\n",
              "    .colab-df-buttons div {\n",
              "      margin-bottom: 4px;\n",
              "    }\n",
              "\n",
              "    [theme=dark] .colab-df-convert {\n",
              "      background-color: #3B4455;\n",
              "      fill: #D2E3FC;\n",
              "    }\n",
              "\n",
              "    [theme=dark] .colab-df-convert:hover {\n",
              "      background-color: #434B5C;\n",
              "      box-shadow: 0px 1px 3px 1px rgba(0, 0, 0, 0.15);\n",
              "      filter: drop-shadow(0px 1px 2px rgba(0, 0, 0, 0.3));\n",
              "      fill: #FFFFFF;\n",
              "    }\n",
              "  </style>\n",
              "\n",
              "    <script>\n",
              "      const buttonEl =\n",
              "        document.querySelector('#df-ac8d1b31-686b-40d7-b064-98ac17e5bc2d button.colab-df-convert');\n",
              "      buttonEl.style.display =\n",
              "        google.colab.kernel.accessAllowed ? 'block' : 'none';\n",
              "\n",
              "      async function convertToInteractive(key) {\n",
              "        const element = document.querySelector('#df-ac8d1b31-686b-40d7-b064-98ac17e5bc2d');\n",
              "        const dataTable =\n",
              "          await google.colab.kernel.invokeFunction('convertToInteractive',\n",
              "                                                    [key], {});\n",
              "        if (!dataTable) return;\n",
              "\n",
              "        const docLinkHtml = 'Like what you see? Visit the ' +\n",
              "          '<a target=\"_blank\" href=https://colab.research.google.com/notebooks/data_table.ipynb>data table notebook</a>'\n",
              "          + ' to learn more about interactive tables.';\n",
              "        element.innerHTML = '';\n",
              "        dataTable['output_type'] = 'display_data';\n",
              "        await google.colab.output.renderOutput(dataTable, element);\n",
              "        const docLink = document.createElement('div');\n",
              "        docLink.innerHTML = docLinkHtml;\n",
              "        element.appendChild(docLink);\n",
              "      }\n",
              "    </script>\n",
              "  </div>\n",
              "\n",
              "\n",
              "<div id=\"df-a4863b88-5c83-455c-af97-99cc66afec2a\">\n",
              "  <button class=\"colab-df-quickchart\" onclick=\"quickchart('df-a4863b88-5c83-455c-af97-99cc66afec2a')\"\n",
              "            title=\"Suggest charts\"\n",
              "            style=\"display:none;\">\n",
              "\n",
              "<svg xmlns=\"http://www.w3.org/2000/svg\" height=\"24px\"viewBox=\"0 0 24 24\"\n",
              "     width=\"24px\">\n",
              "    <g>\n",
              "        <path d=\"M19 3H5c-1.1 0-2 .9-2 2v14c0 1.1.9 2 2 2h14c1.1 0 2-.9 2-2V5c0-1.1-.9-2-2-2zM9 17H7v-7h2v7zm4 0h-2V7h2v10zm4 0h-2v-4h2v4z\"/>\n",
              "    </g>\n",
              "</svg>\n",
              "  </button>\n",
              "\n",
              "<style>\n",
              "  .colab-df-quickchart {\n",
              "      --bg-color: #E8F0FE;\n",
              "      --fill-color: #1967D2;\n",
              "      --hover-bg-color: #E2EBFA;\n",
              "      --hover-fill-color: #174EA6;\n",
              "      --disabled-fill-color: #AAA;\n",
              "      --disabled-bg-color: #DDD;\n",
              "  }\n",
              "\n",
              "  [theme=dark] .colab-df-quickchart {\n",
              "      --bg-color: #3B4455;\n",
              "      --fill-color: #D2E3FC;\n",
              "      --hover-bg-color: #434B5C;\n",
              "      --hover-fill-color: #FFFFFF;\n",
              "      --disabled-bg-color: #3B4455;\n",
              "      --disabled-fill-color: #666;\n",
              "  }\n",
              "\n",
              "  .colab-df-quickchart {\n",
              "    background-color: var(--bg-color);\n",
              "    border: none;\n",
              "    border-radius: 50%;\n",
              "    cursor: pointer;\n",
              "    display: none;\n",
              "    fill: var(--fill-color);\n",
              "    height: 32px;\n",
              "    padding: 0;\n",
              "    width: 32px;\n",
              "  }\n",
              "\n",
              "  .colab-df-quickchart:hover {\n",
              "    background-color: var(--hover-bg-color);\n",
              "    box-shadow: 0 1px 2px rgba(60, 64, 67, 0.3), 0 1px 3px 1px rgba(60, 64, 67, 0.15);\n",
              "    fill: var(--button-hover-fill-color);\n",
              "  }\n",
              "\n",
              "  .colab-df-quickchart-complete:disabled,\n",
              "  .colab-df-quickchart-complete:disabled:hover {\n",
              "    background-color: var(--disabled-bg-color);\n",
              "    fill: var(--disabled-fill-color);\n",
              "    box-shadow: none;\n",
              "  }\n",
              "\n",
              "  .colab-df-spinner {\n",
              "    border: 2px solid var(--fill-color);\n",
              "    border-color: transparent;\n",
              "    border-bottom-color: var(--fill-color);\n",
              "    animation:\n",
              "      spin 1s steps(1) infinite;\n",
              "  }\n",
              "\n",
              "  @keyframes spin {\n",
              "    0% {\n",
              "      border-color: transparent;\n",
              "      border-bottom-color: var(--fill-color);\n",
              "      border-left-color: var(--fill-color);\n",
              "    }\n",
              "    20% {\n",
              "      border-color: transparent;\n",
              "      border-left-color: var(--fill-color);\n",
              "      border-top-color: var(--fill-color);\n",
              "    }\n",
              "    30% {\n",
              "      border-color: transparent;\n",
              "      border-left-color: var(--fill-color);\n",
              "      border-top-color: var(--fill-color);\n",
              "      border-right-color: var(--fill-color);\n",
              "    }\n",
              "    40% {\n",
              "      border-color: transparent;\n",
              "      border-right-color: var(--fill-color);\n",
              "      border-top-color: var(--fill-color);\n",
              "    }\n",
              "    60% {\n",
              "      border-color: transparent;\n",
              "      border-right-color: var(--fill-color);\n",
              "    }\n",
              "    80% {\n",
              "      border-color: transparent;\n",
              "      border-right-color: var(--fill-color);\n",
              "      border-bottom-color: var(--fill-color);\n",
              "    }\n",
              "    90% {\n",
              "      border-color: transparent;\n",
              "      border-bottom-color: var(--fill-color);\n",
              "    }\n",
              "  }\n",
              "</style>\n",
              "\n",
              "  <script>\n",
              "    async function quickchart(key) {\n",
              "      const quickchartButtonEl =\n",
              "        document.querySelector('#' + key + ' button');\n",
              "      quickchartButtonEl.disabled = true;  // To prevent multiple clicks.\n",
              "      quickchartButtonEl.classList.add('colab-df-spinner');\n",
              "      try {\n",
              "        const charts = await google.colab.kernel.invokeFunction(\n",
              "            'suggestCharts', [key], {});\n",
              "      } catch (error) {\n",
              "        console.error('Error during call to suggestCharts:', error);\n",
              "      }\n",
              "      quickchartButtonEl.classList.remove('colab-df-spinner');\n",
              "      quickchartButtonEl.classList.add('colab-df-quickchart-complete');\n",
              "    }\n",
              "    (() => {\n",
              "      let quickchartButtonEl =\n",
              "        document.querySelector('#df-a4863b88-5c83-455c-af97-99cc66afec2a button');\n",
              "      quickchartButtonEl.style.display =\n",
              "        google.colab.kernel.accessAllowed ? 'block' : 'none';\n",
              "    })();\n",
              "  </script>\n",
              "</div>\n",
              "\n",
              "    </div>\n",
              "  </div>\n"
            ],
            "application/vnd.google.colaboratory.intrinsic+json": {
              "type": "dataframe",
              "variable_name": "df",
              "summary": "{\n  \"name\": \"df\",\n  \"rows\": 5369,\n  \"fields\": [\n    {\n      \"column\": \"columna\",\n      \"properties\": {\n        \"dtype\": \"string\",\n        \"num_unique_values\": 5242,\n        \"samples\": [\n          \"65145365 8 CORPORACI\\u00d3N EDUCACIONAL GABRIELA MISTRAL LOS LAGOS 14 esmeralda1805@gmail.com \",\n          \"65155531 0 ENTIDAD INDIVIDUAL EDUCACIONAL COLEGIO BICENTENARIO 9 colegio.bicentenario1336@gmail.com \",\n          \"65135176 6 FUNDACI\\u00d3N COLEGIO SIGLO XXI QUILPUE 5 direccion@colegiosiglo21quilpue.cl \"\n        ],\n        \"semantic_type\": \"\",\n        \"description\": \"\"\n      }\n    }\n  ]\n}"
            }
          },
          "metadata": {},
          "execution_count": 21
        }
      ]
    },
    {
      "cell_type": "markdown",
      "source": [
        "6. Extraer solo registros de correos electrónicos"
      ],
      "metadata": {
        "id": "ofxGuockdVll"
      }
    },
    {
      "cell_type": "code",
      "source": [
        "email_regex = r'\\b[A-Za-z0-9._%+-]+@[A-Za-z0-9.-]+\\.[A-Z|a-z]{2,}\\b'\n",
        "\n",
        "def encontrar_emails(text):\n",
        "    emails = re.findall(email_regex, text)\n",
        "    return emails\n",
        "\n",
        "df['emails'] = df['columna'].apply(encontrar_emails)\n",
        "\n",
        "df = df[df['emails'].apply(lambda x: len(x) > 0)]\n",
        "\n",
        "print(df.head())"
      ],
      "metadata": {
        "colab": {
          "base_uri": "https://localhost:8080/"
        },
        "id": "JN__jAT04Uy4",
        "outputId": "464f15b2-3c9c-471b-e72a-a2ab4be31d2f"
      },
      "execution_count": null,
      "outputs": [
        {
          "output_type": "stream",
          "name": "stdout",
          "text": [
            "                                             columna  \\\n",
            "2  9305019 3 CRISTINA ELENA VARELA CORTÉS 2 Kathe...   \n",
            "3  76095517 5 SERVICIOS EDUCACIONALES PAMELA ANDR...   \n",
            "4  1465275 2 INES ELOISA MANTILARO URBISTONDO 13 ...   \n",
            "5  2371790 5 AUGUSTO ANDRÉS URZUA RIOS 13 adminis...   \n",
            "6  2984150 0 LOURDES ESTELA VÁSQUEZ DUFEY 15 gere...   \n",
            "\n",
            "                              emails  \n",
            "2  [Katherinesuarezvarela@gmail.com]  \n",
            "3             [jardininti@gmail.com]  \n",
            "4               [inesrivera@vtr.net]  \n",
            "5  [administracion@colegioquimay.cl]  \n",
            "6        [gerencia@juniorcollege.cl]  \n"
          ]
        }
      ]
    },
    {
      "cell_type": "code",
      "source": [
        "print(\"Del registro de sostenedores Supereduc, se han extraido \" + str(len(df['emails'])) + \" correos.\")"
      ],
      "metadata": {
        "colab": {
          "base_uri": "https://localhost:8080/"
        },
        "id": "qW7o-xu65F7f",
        "outputId": "962870a4-8a1f-4165-a88a-71ccda412ed1"
      },
      "execution_count": null,
      "outputs": [
        {
          "output_type": "stream",
          "name": "stdout",
          "text": [
            "Del registro de sostenedores Supereduc, se han extraido 5236 correos.\n"
          ]
        }
      ]
    },
    {
      "cell_type": "code",
      "source": [
        "df[\"emails\"].head(30)"
      ],
      "metadata": {
        "id": "S7ID36sS6dey",
        "colab": {
          "base_uri": "https://localhost:8080/"
        },
        "outputId": "236cdc15-c610-4918-d610-0faf661a9dcb"
      },
      "execution_count": null,
      "outputs": [
        {
          "output_type": "execute_result",
          "data": {
            "text/plain": [
              "2                   [gerencia@juniorcollege.cl]\n",
              "3              [colegioserena@colegioserena.cl]\n",
              "4                [colegioanida@colegioanida.cl]\n",
              "5                  [secretariacoeduc@gmail.com]\n",
              "6                 [jardinchispitas@hotmail.com]\n",
              "7                  [colegiocoya@colegiocoya.cl]\n",
              "8                        [alevaldesh@gmail.com]\n",
              "9                   [rectoria@colegioarabe.com]\n",
              "10                            [ivanoac@ciin.cl]\n",
              "11                        [admandino@gmail.com]\n",
              "12                  [jbolton@orchardcollege.cl]\n",
              "13          [jessica.alonsodeercilla@gmail.com]\n",
              "14              [msoledad.caces@carampangue.cl]\n",
              "15                  [colegio@farmlandschool.cl]\n",
              "16                          [rectoria@cspnc.cl]\n",
              "17                          [jardin@heyddie.cl]\n",
              "18                      [midancris@hotmail.com]\n",
              "19              [sanandres.direccion@gmail.com]\n",
              "20    [sostenedora.colegiolicancabur@gmail.com]\n",
              "21                   [jardinagazzi@hotmail.com]\n",
              "22                 [jardincinderella@gmail.com]\n",
              "23                 [jardininfantildp@gmail.com]\n",
              "24                        [dirgen@cdegaulle.cl]\n",
              "25                      [enrique.ortiz@avs1.cl]\n",
              "26                          [apancud@gmail.com]\n",
              "27                          [fecbadm@gmail.com]\n",
              "28                     [mileighton@hotmail.com]\n",
              "29                    [jardindapangam@yahoo.es]\n",
              "30                     [rafael.labra@yahoo.com]\n",
              "31                    [colegio@colsanjavier.cl]\n",
              "Name: emails, dtype: object"
            ]
          },
          "metadata": {},
          "execution_count": 58
        }
      ]
    },
    {
      "cell_type": "markdown",
      "source": [
        "7. Guardar listado de correos en XLSX\n",
        "\n",
        "`NOTA: ` El archivo quedará almacenado en el repositorio de Google Colab, pudiendo ser descargado directamente."
      ],
      "metadata": {
        "id": "Q-4XP3ROwEwR"
      }
    },
    {
      "cell_type": "code",
      "source": [
        "df = pd.DataFrame(df)\n",
        "df['emails'] = df['emails'].astype(str)\n",
        "df_filtrado = df[~df['emails'].str.contains(r'jardin', case=False)]\n",
        "df_filtrado = df_filtrado[~df_filtrado['emails'].str.contains(r'escuela', case=False)]\n",
        "listado_correos = df_filtrado['emails']\n",
        "listado_correos.to_excel(\"listado_correos.xlsx\")"
      ],
      "metadata": {
        "id": "jreQW9hqZlcj"
      },
      "execution_count": null,
      "outputs": []
    },
    {
      "cell_type": "markdown",
      "source": [
        "8. Enviar correo electrónico mediante loop"
      ],
      "metadata": {
        "id": "ie6vWGk7wK6B"
      }
    },
    {
      "cell_type": "code",
      "source": [
        "import smtplib\n",
        "from email.mime.text import MIMEText\n",
        "\n",
        "subject = \"testing\"\n",
        "body = \"testing\"\n",
        "sender = \"ingresa_correo\"\n",
        "recipients = [\"ingresa_correo_contacto\"]\n",
        "password = \"\"\n",
        "\n",
        "def send_email(subject, body, sender, recipients, password):\n",
        "    msg = MIMEText(body)\n",
        "    msg['Subject'] = subject\n",
        "    msg['From'] = sender\n",
        "    msg['To'] = ', '.join(recipients)\n",
        "    with smtplib.SMTP_SSL('smtp.gmail.com', 465) as smtp_server:\n",
        "       smtp_server.login(sender, password)\n",
        "       smtp_server.sendmail(sender, recipients, msg.as_string())\n",
        "    print(\"Mensaje enviado!\")\n",
        "\n",
        "\n",
        "send_email(subject, body, sender, recipients, password)"
      ],
      "metadata": {
        "id": "ry7cB8fG6zcp"
      },
      "execution_count": null,
      "outputs": []
    }
  ]
}